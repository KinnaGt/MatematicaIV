{
 "cells": [
  {
   "cell_type": "markdown",
   "metadata": {},
   "source": [
    "## Parte 1: Predicción del valor de mercado\n",
    "\n",
    "*a) Recta de regresión para predecir el valor de mercado de un jugador a partir de la característica más relevante (a la que se destinará mayor proporción del presupuesto), respaldada por:*"
   ]
  },
  {
   "cell_type": "markdown",
   "metadata": {},
   "source": [
    "Consideramos como caracteristica mas relevante al overall, que es la puntuacion general del jugador y por lo tanto, que tan buena figurita es.\n",
    "A partir de esta muestra de datos graficamos la relacion entre el valor de mercado(y) y el overall(x).\n",
    "No sin antes normalizar los valores de mercado, es decir, establecerlos en un rango que sea mas legible y entendible a la hora de graficar o ver estadisticas.\n",
    "Tambien consideramos no poner aquellos valores con overall muy bajo ya que representan una escasa cantidad de figuritas que no aportan relevancia al analisis."
   ]
  },
  {
   "cell_type": "code",
   "execution_count": null,
   "metadata": {},
   "outputs": [],
   "source": [
    "from numpy import sqrt\n",
    "import numpy as np\n",
    "import pandas as pd\n",
    "import matplotlib.pyplot as plt\n",
    "from scipy import stats\n",
    "\n",
    "# Cargar el dataset\n",
    "df = pd.read_csv(\"code/dataset/FIFA21.csv\")\n",
    "\n",
    "relevant_feature = \"overall\"\n",
    "# Seleccionar las columnas de interés\n",
    "df = df[[\"long_name\", \"value_eur\", relevant_feature]].dropna()\n",
    "\n",
    "# Eliminar todos los valores cuyo overall sea menor a 65\n",
    "df = df[df[relevant_feature] > 65]\n",
    "\n",
    "# Normalizar la columna 'value_eur' a un rango de 0 a 100\n",
    "df['value_eur_normalized'] = 100 * (df['value_eur'] - df['value_eur'].min()) / (df['value_eur'].max() - df['value_eur'].min())\n",
    "\n",
    "# Definir las variables\n",
    "x = df[relevant_feature]\n",
    "y = df['value_eur_normalized']\n",
    "\n",
    "# Grafico con los datos obtenidos\n",
    "plt.scatter(x, y, color='red')\n",
    "plt.title('Value vs Overall')\n",
    "plt.xlabel('Overall')\n",
    "plt.ylabel('Value')\n",
    "plt.show()"
   ]
  },
  {
   "cell_type": "markdown",
   "metadata": {},
   "source": [
    "De esta forma ya podemos ver que tiene cierta relacion entre el overall y el valor de mercado ya que al aumentar uno se puede ver el aumento del otro asi que podemos avanzar con la recta estimativa de valores.\n",
    "\n",
    "Para esto sacamos todos los valores necesarios para obtener una ecuacion de la recta tal que \n",
    "### Y = β1X + β0 + ε"
   ]
  },
  {
   "cell_type": "code",
   "execution_count": null,
   "metadata": {},
   "outputs": [],
   "source": [
    "# Recta de regresión para predecir el valor de mercado\n",
    "# de un jugador a partir de la característica más relevante\n",
    "\n",
    "# Calcular la sumatoria de las variables x e y\n",
    "x_sum = x.sum()\n",
    "y_sum = y.sum()\n",
    "\n",
    "# Calcular la media de las columnas 2 y 3\n",
    "x_avg = x.mean()\n",
    "y_avg = y.mean()\n",
    "\n",
    "# Calcular la sumatoria de los cuadrados de las variables x e y\n",
    "x_sq_sum = (x ** 2).sum()\n",
    "y_sq_sum = (y ** 2).sum()\n",
    "\n",
    "# Sigma al cuadrado de x e y (varianza corregida)\n",
    "x_var = x_sq_sum / len(x) - (x_sum ** 2) / len(x)**2\n",
    "y_var = y_sq_sum / len(y) - (y_sum ** 2) / len(y)**2\n",
    "\n",
    "# Sigma de xy\n",
    "xy_dev = ((x * y).sum() / len(x)) - (x_avg * y_avg)\n",
    "\n",
    "# Coeficientes de la recta de regresión Pendiente y Ordenada\n",
    "b1 = xy_dev / x_var\n",
    "b0 = y_avg - b1 * x_avg\n",
    "\n",
    "# Estimación de mínimos cuadrados\n",
    "Sxy = (x * y).sum() - ((x.sum() * y.sum()) / len(x))\n",
    "Sxx = x_sq_sum - ((x.sum() ** 2) / len(x))\n",
    "Syy = y_sq_sum - ((y.sum() ** 2) / len(y))\n",
    "\n",
    "# Coeficientes de la recta de regresión Pendiente y Ordenada\n",
    "b1_hat = Sxy / Sxx\n",
    "b0_hat = y_avg - b1_hat * x_avg\n",
    "\n",
    "y_hat = b0_hat + b1_hat * x\n",
    "\n",
    "# Dibujar recta a partir de y_hat\n",
    "plt.scatter(x, y, color='red', label='Datos')\n",
    "plt.plot(x, y_hat, color='blue', label='Recta de regresión')\n",
    "plt.title('Value vs ' + relevant_feature + 'con Recta de Regresión')\n",
    "plt.xlabel(relevant_feature)\n",
    "plt.ylabel('Value Normalized')\n",
    "plt.legend()\n",
    "plt.show()"
   ]
  },
  {
   "cell_type": "markdown",
   "metadata": {},
   "source": [
    "*i) Prueba de significancia de regresión, coeficiente de determinación (R²) y correlación lineal\n",
    "(r)*"
   ]
  },
  {
   "cell_type": "code",
   "execution_count": null,
   "metadata": {},
   "outputs": [],
   "source": [
    "SSr = Syy - (b1_hat * Sxy)\n",
    "\n",
    "# Calculo de la varianza\n",
    "sigma_hat_sqrd = SSr / (len(x) - 2)\n",
    "\n",
    "# Calculo del coeficiente de determinación\n",
    "R2 = 1 - SSr/Syy\n",
    "\n",
    "# Coeficiente de Correlación Lineal\n",
    "r = Sxy / sqrt(Sxx * Syy)\n",
    "\n",
    "# Imprimir los resultados\n",
    "print(\"SSr: \" + str(SSr))\n",
    "print(\"Varianza: \" + str(sigma_hat_sqrd))\n",
    "print(\"Coeficiente de determinacion: \" + str(R2 * 100) + \"%\")\n",
    "print(\"Coeficiente de correlación: \" + str(r) + \"\\n\")\n",
    "\n",
    "# Prueba de significancia\n",
    "# Se calcula el error estandar de la pendiente\n",
    "dflen = len(x) - 2\n",
    "\n",
    "sse = ((y - y_hat) ** 2).sum()\n",
    "error_estandar_pendiente = sqrt(sse / (dflen * Sxx))\n",
    "\n",
    "# Test de Hipótesis\n",
    "t = b1_hat / error_estandar_pendiente\n",
    "\n",
    "print(\"Error estandar de la pendiente: \" + str(error_estandar_pendiente))\n",
    "print(\"Test de Hipótesis: \" + str(t))"
   ]
  },
  {
   "cell_type": "markdown",
   "metadata": {},
   "source": [
    "Sobre el coeficiente de determinacion este porcentaje indica que el modelo explica el 63.65% de la variabilidad total en los datos. Si bien no es perfecto (100%), sigue siendo un buen indicador de que el modelo tiene una capacidad razonable para predecir el comportamiento de los datos.\n",
    "\n",
    "Por otra parte el coeficiente de correlacion refleja la fuerza y la dirección de la relación entre las variables independientes y dependientes. Un valor de 0.7978 indica una fuerte correlación positiva, lo que significa que a medida que una variable aumenta, la otra también tiende a aumentar.\n",
    "\n",
    "Error estandar de la pendiente: 0.008869301837671184 , este valor indica la precisión de la pendiente estimada. Un error estándar bajo sugiere que la pendiente está bien estimada y es confiable.\n",
    "\n",
    "Test de hipotesis; 129.40 Este valor es un estadístico t que evalúa si la pendiente es significativamente diferente de 0. Un valor tan alto indica que la pendiente es significativamente distinta de 0, lo que respalda la existencia de una relación significativa entre las variables."
   ]
  },
  {
   "cell_type": "markdown",
   "metadata": {},
   "source": [
    "*ii) Inferencias sobre los parámetros de la recta, estimando las\n",
    "fluctuaciones con una confianza del 95%.\n",
    "Conclusión del test*\n"
   ]
  },
  {
   "cell_type": "code",
   "execution_count": null,
   "metadata": {},
   "outputs": [],
   "source": [
    "\n",
    "# Valor de P\n",
    "p = 2 * (1 - stats.t.cdf(abs(t), dflen))\n",
    "\n",
    "if p < 0.05:\n",
    "    print(\"Se rechaza la hipótesis nula\")\n",
    "else:\n",
    "    print(\"No se rechaza la hipótesis nula\")"
   ]
  },
  {
   "cell_type": "markdown",
   "metadata": {},
   "source": [
    "Esto significa que la pendiente es significativamente diferente de 0, y por lo tanto, existe una relación significativa entre las variables. Si el valor p fuese mayor o igual a 0.05, no se puede rechazar la hipótesis nula, lo que implica que la pendiente podría no ser significativa."
   ]
  },
  {
   "cell_type": "markdown",
   "metadata": {},
   "source": [
    "*iii) La proporción de veces que el valor de mercado supera la incertidumbre de predicción\n",
    "comparada con la respuesta media del valor de mercado para una característica fija, ambas\n",
    "con la misma confianza y ancho mínimo.*"
   ]
  },
  {
   "cell_type": "code",
   "execution_count": 10,
   "metadata": {},
   "outputs": [
    {
     "name": "stdout",
     "output_type": "stream",
     "text": [
      "Intervalo de Predicción: ±7.486234728661791\n",
      "Intervalo de Confianza para la Media: ±0.0765417261143835\n",
      "Proporción de veces que el valor de mercado supera la incertidumbre de predicción: 0.07\n"
     ]
    }
   ],
   "source": [
    "alpha = 0.05\n",
    "t_alpha_half = stats.t.ppf(1 - alpha / 2, dflen)  # Valor crítico de t\n",
    "x0 = x.mean()  # Característica fija, puedes cambiar a otro valor específico\n",
    "\n",
    "# Predicción para x0\n",
    "y0_hat = b0_hat + b1_hat * x0\n",
    "\n",
    "# Incertidumbre de predicción\n",
    "pred_interval = t_alpha_half * \\\n",
    "    sqrt(sigma_hat_sqrd * (1 + 1 / len(x) + (x0 - x_avg)**2 / Sxx))\n",
    "\n",
    "# Intervalo de confianza para la media\n",
    "conf_interval = t_alpha_half * \\\n",
    "    sqrt(sigma_hat_sqrd / len(x) + (x0 - x_avg)**2 / Sxx)\n",
    "\n",
    "# Calcular la proporción de veces que el valor de mercado supera la\n",
    "# incertidumbre de predicción\n",
    "exceeds_prediction_interval = np.sum(\n",
    "    (y > (y0_hat + pred_interval)) | (y < (y0_hat - pred_interval)))\n",
    "proportion_exceeds = exceeds_prediction_interval / len(y)\n",
    "\n",
    "# Imprimir resultados\n",
    "print(f\"Intervalo de Predicción: ±{pred_interval}\")\n",
    "print(f\"Intervalo de Confianza para la Media: ±{conf_interval}\")\n",
    "print(\n",
    "    f\"Proporción de veces que el valor de mercado supera la incertidumbre de predicción: {proportion_exceeds:.2f}\")"
   ]
  },
  {
   "cell_type": "markdown",
   "metadata": {},
   "source": [
    "La incertidumbre de predicción (±7.49) es considerablemente mayor que la incertidumbre en la media (±0.08), lo que es de esperarse, ya que predecir un nuevo valor individual es más incierto que estimar la media de muchos valores. La baja proporción (0.07) indica que en la mayoría de los casos, el valor de mercado real está dentro del rango de predicción, lo que sugiere que el modelo tiene un buen desempeño al predecir el mercado, aunque puede haber algunas fluctuaciones."
   ]
  }
 ],
 "metadata": {
  "kernelspec": {
   "display_name": "venv",
   "language": "python",
   "name": "python3"
  },
  "language_info": {
   "codemirror_mode": {
    "name": "ipython",
    "version": 3
   },
   "file_extension": ".py",
   "mimetype": "text/x-python",
   "name": "python",
   "nbconvert_exporter": "python",
   "pygments_lexer": "ipython3",
   "version": "3.12.6"
  }
 },
 "nbformat": 4,
 "nbformat_minor": 2
}
